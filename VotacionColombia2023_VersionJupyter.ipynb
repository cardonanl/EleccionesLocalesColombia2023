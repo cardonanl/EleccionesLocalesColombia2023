{
  "nbformat": 4,
  "nbformat_minor": 0,
  "metadata": {
    "colab": {
      "provenance": []
    },
    "kernelspec": {
      "name": "python3",
      "display_name": "Python 3"
    },
    "language_info": {
      "name": "python"
    }
  },
  "cells": [
    {
      "cell_type": "markdown",
      "source": [
        "# Descargando los resultados electorales del 2023 de manera automatizada\n",
        "**Autor: Nicolás Cardona - @cardonanl**\n",
        "\n",
        "Este código fue creado para que cualquier persona con intereses en los resultados electorales de Colombia del 2023 pueda acceder a ellos a nivel de puesto de votación de manera automática.\n",
        "\n",
        "Es importante que el usuario NO modique nada que el código no sugiera modificar para evitar desde malos resultados hasta el colapso del servidor de la Registraduria.\n",
        "\n",
        "Lo más importante para el usuario es elegir desde un inicio cuál nivel electoral va a minar y de qué departamento. Basado en un código único y un prefijo único, cuya obtención podrán ver en el GitHub, el usuario puede descargar toda la información de todos los candidatos y todos los puestos de votación."
      ],
      "metadata": {
        "id": "RsUkyHp90hMh"
      }
    },
    {
      "cell_type": "markdown",
      "source": [
        "# Puestos de votacion\n",
        "\n",
        "\n",
        "*   Para extraer los votos se necesita tener primero los puestos de votación.\n",
        "*   El usuario solo debe modificar un valor en todo el código para obtener los puestos de votación deseados.\n",
        "*   Para encontrar el código, remitase el tutorial de GitHub.\n",
        "\n"
      ],
      "metadata": {
        "id": "FkN_QzPPe7ex"
      }
    },
    {
      "cell_type": "code",
      "source": [
        "# Este codigo accede a un documento llamado nomenclator.json que hace parte del backend del preconteo de la Registraduria\n",
        "# Este documento es algo complejo y aún no lo descifro bien porque su visualización es algo compleja debido a su extensión\n",
        "# Adicionalmente, la estructura de datos en su interior tiene seis estructuras similares, es decir, al buscar mi puesto de votación de prueba -31001010107- este aparecía seis veces en una estructura similar.\n",
        "# Parece ser que el documento contiene una estructura basada en el nivel de la votación.\n",
        "# De cualquier manera; mi interés era encontrar todos los puestos de votación de un departamento o municipio por lo cual este codigo lo que hace es separar el primer matcha basado en un prefijo que son los tres primeros numeros del json que contiene los votos\n",
        "# Ejemplo: en el puesto de Cali que use para testear (31001010107) el 310 al inicio indica Valle del Cauca. Así, la función va a devolver todos los puestos según ese valor.\n",
        "# El usuario solo debe modificar un valor en el código\n",
        "\n",
        "import requests\n",
        "\n",
        "url = 'https://resultadosprec2023.registraduria.gov.co/json/nomenclator.json'\n",
        "\n",
        "#Obtener el archivo\n",
        "response = requests.get(url)\n",
        "if response.status_code == 200:\n",
        "    data = response.json()\n",
        "\n",
        "import json\n",
        "\n",
        "\n",
        "#Función para extraer puestos de votación sin duplicados\n",
        "def extraer_puestos_unicos(data, prefijo):\n",
        "    puestos = {}\n",
        "    for item in data['ambitos']['3']:\n",
        "        # Acceder al primer grupo de datos relevante aquí\n",
        "        codigo = item.get('c', '')\n",
        "        if codigo.startswith(prefijo):\n",
        "            # Usar el código como clave evita duplicados automáticamente\n",
        "            puestos[codigo] = item\n",
        "\n",
        "    return list(puestos.values())\n",
        "\n",
        "#Ejecutar funcion\n",
        "puestos_unicos = extraer_puestos_unicos(data, '400') # <--------- Este es el único valor que el usuario debe modificar\n",
        "\n",
        "#Imp\n",
        "for puesto in puestos_unicos:\n",
        "    print(puesto)"
      ],
      "metadata": {
        "id": "tRy3Hvqd26E4"
      },
      "execution_count": null,
      "outputs": []
    },
    {
      "cell_type": "code",
      "source": [
        "# El mismo código anterior pero usando nomenclator.json como archivo local. Esta version se comparte por si el link de la Registraduria deja de funcionar y el archivo se encontrará con los demás.\n",
        "\n",
        "import json\n",
        "\n",
        "#Cargar  JSON\n",
        "with open('nomenclator.json', 'r') as archivo:\n",
        "    data = json.load(archivo)\n",
        "\n",
        "#Función para extraer puestos de votación sin duplicados\n",
        "def extraer_puestos_unicos(data, prefijo):\n",
        "    puestos = {}\n",
        "    for item in data['ambitos']['3']:\n",
        "        codigo = item.get('c', '')\n",
        "        if codigo.startswith(prefijo):\n",
        "            puestos[codigo] = item\n",
        "\n",
        "    return list(puestos.values())\n",
        "\n",
        "#Ejecutar funcion\n",
        "puestos_unicos = extraer_puestos_unicos(data, '400')\n",
        "\n",
        "#Imp\n",
        "for puesto in puestos_unicos:\n",
        "    print(puesto)\n"
      ],
      "metadata": {
        "id": "ROEBo6TbF4GZ"
      },
      "execution_count": null,
      "outputs": []
    },
    {
      "cell_type": "code",
      "source": [
        "#Pequeño código para convertir los resultados en un dataframe y así exportarlo más facilmanete si se precisa\n",
        "import pandas as pd\n",
        "df_puestos = pd.DataFrame(puestos_unicos)\n",
        "print(df_puestos.head())\n",
        "df_puestos"
      ],
      "metadata": {
        "id": "rX_9g_A1IZ5O"
      },
      "execution_count": null,
      "outputs": []
    },
    {
      "cell_type": "markdown",
      "source": [
        "# Código para extraer votos de toda una serie de\n",
        "\n",
        "\n",
        "*   Este código usa directamente la lista de puestos obtenidos para iterar sobre cada uno y extraer los votos por candidato y puesto de votación\n",
        "*   Aca el usuario solo debe cambiar el link 'https://resultadosprec2023.registraduria.gov.co/json/ACT/AS/{codigo}.json' la parte del /ACT/AS así:\n",
        "* Para Asamblea /ACT/AS - Para Concejos /ACT/CO - Para Alcaldía /ACT/AL - Para Gobernación /ACT/GO - Para JAL /ACT/JA\n",
        "* **OJO:** Este proceso es intensivo en tiempo. Usando Google Colab, me tardó 1 hora descargando la info de la asamblea del Valle para todos los puestos de votación.\n",
        "\n"
      ],
      "metadata": {
        "id": "w3HUK9T9CQta"
      }
    },
    {
      "cell_type": "markdown",
      "source": [
        "Votos - iteración final"
      ],
      "metadata": {
        "id": "P0bW92JaRnw5"
      }
    },
    {
      "cell_type": "code",
      "source": [
        "import requests\n",
        "import pandas as pd\n",
        "import time\n",
        "\n",
        "# Lista de códigos únicos extraídos previamente\n",
        "codigos_unicos = [puesto['c'] for puesto in puestos_unicos]\n",
        "\n",
        "# Inicializar la lista para recolectar los datos\n",
        "filas = []\n",
        "\n",
        "# Iterar sobre cada código único\n",
        "for codigo in codigos_unicos:\n",
        "    url = f'https://resultadosprec2023.registraduria.gov.co/json/ACT/AS/{codigo}.json' # <- Este link puede ser modificado en su estructura para extraer los votos de las otras corporaciones /AS/ es asamblea por ejemplo.\n",
        "    response = requests.get(url)\n",
        "    if response.status_code == 200:\n",
        "        data = response.json()\n",
        "        if 'camaras' in data:\n",
        "            for camara in data['camaras']:\n",
        "                if 'partotabla' in camara:\n",
        "                    for partido in camara['partotabla']:\n",
        "                        if 'cantotabla' in partido['act']:\n",
        "                            for candidato in partido['act']['cantotabla']:\n",
        "                                candidato['codpar'] = partido['act']['codpar']\n",
        "                                candidato['codigo_unico'] = codigo\n",
        "                                candidato['nombre_puesto'] = data.get('nombre_puesto', 'Desconocido')  # Ajustar clave si es necesario\n",
        "                                filas.append(candidato)\n",
        "        time.sleep(2)  # Esperar 2 segundos entre cada solicitud para no sobrecargar el servidor\n",
        "\n",
        "# Crear DataFrame\n",
        "df_final = pd.DataFrame(filas)\n",
        "print(df_final.head(10))\n"
      ],
      "metadata": {
        "id": "kmo-JnA8RmgG"
      },
      "execution_count": null,
      "outputs": []
    },
    {
      "cell_type": "code",
      "source": [
        "df_final.head(10)"
      ],
      "metadata": {
        "id": "IFJ8qr3Nd8vO"
      },
      "execution_count": null,
      "outputs": []
    },
    {
      "cell_type": "code",
      "source": [
        "df_final.to_csv('votaciones_asamblea_arauca.csv')"
      ],
      "metadata": {
        "id": "L6Ww9nqvdyjJ"
      },
      "execution_count": null,
      "outputs": []
    },
    {
      "cell_type": "markdown",
      "source": [
        "Procesamiento adicional\n",
        "\n",
        "\n",
        "*   Para mejorar la Base de Datos obtenida se pueden añadir el nombre de los partidos y el nombre de los puestos - municipios.\n",
        "*   El código para los Partidos funciona para cualquier caso (tipo de elección o nivel electoral)\n",
        "*   El código de los municipios es solo un ejemplo para el Valle del Cauca. Los nombres y códigos los pueden extraer directamente del mismo data frame obtenido en el código de los puestos de votación.\n",
        "\n"
      ],
      "metadata": {
        "id": "Me_quUoKp06G"
      }
    },
    {
      "cell_type": "code",
      "source": [
        "################## Nombre del partido\n",
        "\n",
        "mapeo_partidos = {\n",
        "  '2':'Partido Liberal',\n",
        "  '3':'Partido Conservador',\n",
        "  '4':'Cambio Radical',\n",
        "  '5':'Partido Verde',\n",
        "  '9':'Partido de la U',\n",
        "  '12':'Centro Democrático',\n",
        "  '16':'Partido Colombia Renaciente',\n",
        "  '24':'Partido Liga Gobernantes Anticorrupción',\n",
        "  '26':'Partido Ecologista Colombiano',\n",
        "  '36':'Movimiento Político Fuerza Ciudadana',\n",
        "  '1773':'Fuerza de la Paz-Mais',\n",
        "  '1862':'Valle Nos Une',\n",
        "  '2803':'Pacto Histórico',\n",
        "  '2997':'Acuerdo de Coalición',\n",
        "}\n",
        "\n",
        "df_final['Partido'] = df_final['codpar'].apply(lambda x: mapeo_partidos.get(x, 'Desconocido'))"
      ],
      "metadata": {
        "id": "2MHsPUjUp68p"
      },
      "execution_count": null,
      "outputs": []
    },
    {
      "cell_type": "code",
      "source": [
        "################## Municipios y nombre del puesto de votacion\n",
        "\n",
        "# Eliminar la columna 'nombre_puesto' si existe\n",
        "if 'nombre_puesto' in df_final.columns:\n",
        "    df_final.drop('nombre_puesto', axis=1, inplace=True)\n",
        "\n",
        "# Crear un diccionario para mapear 'c' a 's' de codigos_unicos\n",
        "mapeo_s = {puesto['c']: puesto['s'] for puesto in puestos_unicos}\n",
        "\n",
        "# Añadir la columna 'slug_puesto' basada en 'codigo_unico'\n",
        "df_final['slug_puesto'] = df_final['codigo_unico'].apply(lambda x: mapeo_s.get(x, 'Desconocido'))\n",
        "\n",
        "# Diccionario para mapear los códigos de municipio a sus nombres\n",
        "mapeo_municipios = {\n",
        "    \"31004\": \"ALCALA\",\n",
        "    \"31007\": \"ANDALUCIA\",\n",
        "    \"31010\": \"ANSERMANUEVO\",\n",
        "    \"31013\": \"ARGELIA\",\n",
        "    \"31016\": \"BOLIVAR\",\n",
        "    \"31019\": \"BUENAVENTURA\",\n",
        "    \"31022\": \"BUGA\",\n",
        "    \"31025\": \"BUGALAGRANDE\",\n",
        "    \"31028\": \"CAICEDONIA\",\n",
        "    \"31001\": \"CALI\",\n",
        "    \"31040\": \"CALIMA (DARIEN)\",\n",
        "    \"31031\": \"CANDELARIA\",\n",
        "    \"31034\": \"CARTAGO\",\n",
        "    \"31037\": \"DAGUA\",\n",
        "    \"31043\": \"EL AGUILA\",\n",
        "    \"31046\": \"EL CAIRO\",\n",
        "    \"31049\": \"EL CERRITO\",\n",
        "    \"31052\": \"EL DOVIO\",\n",
        "    \"31055\": \"FLORIDA\",\n",
        "    \"31058\": \"GINEBRA\",\n",
        "    \"31061\": \"GUACARI\",\n",
        "    \"31064\": \"JAMUNDI\",\n",
        "    \"31067\": \"LA CUMBRE\",\n",
        "    \"31070\": \"LA UNION\",\n",
        "    \"31073\": \"LA VICTORIA\",\n",
        "    \"31076\": \"OBANDO\",\n",
        "    \"31079\": \"PALMIRA\",\n",
        "    \"31082\": \"PRADERA\",\n",
        "    \"31085\": \"RESTREPO\",\n",
        "    \"31088\": \"RIOFRIO\",\n",
        "    \"31091\": \"ROLDANILLO\",\n",
        "    \"31094\": \"SAN PEDRO\",\n",
        "    \"31097\": \"SEVILLA\",\n",
        "}\n",
        "\n",
        "\n",
        "#Extraer los primeros 5 dígitos de 'codigo_unico' para obtener el código del municipio\n",
        "df_final['municipio'] = df_final['codigo_unico'].apply(lambda x: mapeo_municipios.get(x[:5], 'Desconocido'))\n",
        "\n",
        "print(df_final.head())\n"
      ],
      "metadata": {
        "colab": {
          "base_uri": "https://localhost:8080/"
        },
        "id": "wrL527sIj3TF",
        "outputId": "d39dfc9e-1552-4eea-ce3e-fed6bfa54201"
      },
      "execution_count": null,
      "outputs": [
        {
          "output_type": "stream",
          "name": "stdout",
          "text": [
            "     amb codcan      cedula             nomcan             apecan nomcan2  \\\n",
            "0  31004     51    31540683             LUZDEY  MARTINEZ MARTINEZ           \n",
            "1  31004     57    16452965     CARLOS ALBERTO  BEJARANO CASTILLO           \n",
            "2  31004     71  1112957291         JORGE LUIS       REYES TASCON           \n",
            "3  31004     55  1130670768           JONATHAN   VELASQUEZ ALZATE           \n",
            "4  31004      0              SOLO POR LA LISTA                              \n",
            "\n",
            "  apecan2  vot    pvot carg pref empate codpar codigo_unico slug_puesto  \\\n",
            "0          597  11,44%    0    1      0      2        31004      ALCALA   \n",
            "1          505   9,68%    0    1      0      2        31004      ALCALA   \n",
            "2           99   1,89%    0    1      0      2        31004      ALCALA   \n",
            "3           95   1,82%    0    1      0      2        31004      ALCALA   \n",
            "4           73   1,39%    0    1      0      2        31004      ALCALA   \n",
            "\n",
            "  municipio  \n",
            "0    ALCALA  \n",
            "1    ALCALA  \n",
            "2    ALCALA  \n",
            "3    ALCALA  \n",
            "4    ALCALA  \n"
          ]
        }
      ]
    },
    {
      "cell_type": "code",
      "source": [
        "df_final.to_csv('votacion_asamblea_valle_final.csv')"
      ],
      "metadata": {
        "id": "7dHY0xaSkQHv"
      },
      "execution_count": null,
      "outputs": []
    },
    {
      "cell_type": "markdown",
      "source": [
        "Este es un código adicional y simple para extraer directamente los votos de un solo puesto de votación que se desea. Solo hay que cambiar la url."
      ],
      "metadata": {
        "id": "kt8b-DWp70W_"
      }
    },
    {
      "cell_type": "code",
      "source": [
        "import requests\n",
        "import pandas as pd\n",
        "\n",
        "#Testeo\n",
        "url = 'https://resultadosprec2023.registraduria.gov.co/json/ACT/AS/31001010107.json'\n",
        "\n",
        "#Request\n",
        "response = requests.get(url)\n",
        "data = response.json()\n",
        "\n",
        "#Preparar la lista para recolectar datos\n",
        "filas = []\n",
        "\n",
        "#Navegar en el JSON para encontrar 'cantotabla' - acá se distinguen los partidos\n",
        "if 'camaras' in data:\n",
        "    for camara in data['camaras']:\n",
        "        if 'partotabla' in camara:\n",
        "            for partido in camara['partotabla']:\n",
        "                if 'cantotabla' in partido['act']:\n",
        "                    for candidato in partido['act']['cantotabla']:\n",
        "                        #Añadir el código del partido para cada fila\n",
        "                        candidato['codpar'] = partido['act']['codpar']\n",
        "                        filas.append(candidato)\n",
        "\n",
        "#DF\n",
        "df = pd.DataFrame(filas)\n",
        "print(df.head())"
      ],
      "metadata": {
        "colab": {
          "base_uri": "https://localhost:8080/"
        },
        "id": "9mTbSEnqRVBF",
        "outputId": "b65a476e-0aad-44eb-c3b7-285bf1cf431a"
      },
      "execution_count": null,
      "outputs": [
        {
          "output_type": "stream",
          "name": "stdout",
          "text": [
            "           amb codcan    cedula             nomcan           apecan nomcan2  \\\n",
            "0  31001010107     51  94553087      CARLOS FELIPE      LOPEZ LOPEZ           \n",
            "1  31001010107     69  16771449     DIEGO FERNANDO  MOSQUERA MOLINA           \n",
            "2  31001010107      0            SOLO POR LA LISTA                            \n",
            "3  31001010107     71  66680731         LINA MARIA    SEGURA MOYANO           \n",
            "4  31001010107     68  75080624     HERMAN ENRIQUE     LOPEZ ALZATE           \n",
            "\n",
            "  apecan2 vot    pvot carg pref empate codpar  \n",
            "0          76  11,25%    0    1      0      9  \n",
            "1          31   4,59%    0    1      0      9  \n",
            "2          11   1,62%    0    1      0      9  \n",
            "3           7   1,03%    0    1      0      9  \n",
            "4           6   0,88%    0    1      0      9  \n"
          ]
        }
      ]
    }
  ]
}